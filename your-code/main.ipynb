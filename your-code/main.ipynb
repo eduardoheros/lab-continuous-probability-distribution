{
  "nbformat": 4,
  "nbformat_minor": 0,
  "metadata": {
    "kernelspec": {
      "display_name": "Python 3",
      "language": "python",
      "name": "python3"
    },
    "language_info": {
      "codemirror_mode": {
        "name": "ipython",
        "version": 3
      },
      "file_extension": ".py",
      "mimetype": "text/x-python",
      "name": "python",
      "nbconvert_exporter": "python",
      "pygments_lexer": "ipython3",
      "version": "3.7.3"
    },
    "colab": {
      "name": "main.ipynb",
      "provenance": []
    }
  },
  "cells": [
    {
      "cell_type": "markdown",
      "metadata": {
        "id": "YigTfq0h6SKG",
        "colab_type": "text"
      },
      "source": [
        "# Before your start:\n",
        "\n",
        "    Read the README.md file\n",
        "    Comment as much as you can and use the resources (README.md file)\n",
        "    Happy learning!"
      ]
    },
    {
      "cell_type": "markdown",
      "metadata": {
        "id": "Sc4lvVaR6SKJ",
        "colab_type": "text"
      },
      "source": [
        "In this exercise, we  will generate random numbers from the continuous disributions we learned in the lesson. There are two ways to generate random numbers:\n",
        "\n",
        "1. Using the numpy library \n",
        "1. using the Scipy library \n",
        "\n",
        "Use either or both of the lbraries in this exercise."
      ]
    },
    {
      "cell_type": "markdown",
      "metadata": {
        "id": "P5gFrhSK6SKK",
        "colab_type": "text"
      },
      "source": [
        "## Uniform Distribution\n",
        "\n",
        "To generate uniform random numbers between any two given values using scipy, we can either use the following code or the code that we have\n",
        "discussed in class:"
      ]
    },
    {
      "cell_type": "code",
      "metadata": {
        "id": "0kCECLhB6WW4",
        "colab_type": "code",
        "colab": {}
      },
      "source": [
        "import numpy as np\n",
        "import matplotlib.pyplot as plt\n",
        "import seaborn as sns\n",
        "from scipy.stats import norm\n",
        "import pandas as pd"
      ],
      "execution_count": 0,
      "outputs": []
    },
    {
      "cell_type": "code",
      "metadata": {
        "id": "rGvOrztd6SKf",
        "colab_type": "code",
        "colab": {
          "base_uri": "https://localhost:8080/",
          "height": 51
        },
        "outputId": "0d6f6f29-1339-4e19-bb95-3ef7b07c353c"
      },
      "source": [
        "from scipy.stats import uniform\n",
        "x = uniform.rvs(size=10)\n",
        "a = 2\n",
        "b = 3\n",
        "randoms  = a + (b-a)*x\n",
        "print(randoms)"
      ],
      "execution_count": 2,
      "outputs": [
        {
          "output_type": "stream",
          "text": [
            "[2.74979193 2.12857801 2.07559378 2.29091202 2.98767455 2.82630453\n",
            " 2.91626722 2.81900219 2.23909169 2.81092816]\n"
          ],
          "name": "stdout"
        }
      ]
    },
    {
      "cell_type": "markdown",
      "metadata": {
        "id": "pvXhuAEr6SKm",
        "colab_type": "text"
      },
      "source": [
        "**Your task:**\n",
        "\n",
        "1. Based on the code above, write a function that generates uniformly distributed random numbers. There are several requirements for your function:\n",
        "    * It should accept 3 parameters: \n",
        "        * `bottom` - the lower boundary of the generated numbers\n",
        "        * `ceiling` - the upper boundary of the generated numbers\n",
        "        * `count` - how many numbers to generate\n",
        "    * It should return an array of uniformly distributed random numbers\n",
        "\n",
        "1. Call your function with 2 sets of params below:\n",
        "    * bottom=10, ceiling=15, count=100\n",
        "    * bottom=10, ceiling=60, count=1,000\n",
        "\n",
        "1. Plot the uniform distributions generated above using histograms, where x axis is the value and y axis is the count. Let the histogram's number of bins be 10.\n",
        "\n",
        "Your output should look like below:\n",
        "\n",
        "![uniform distribution](https://github.com/eduardoheros/lab-continuous-probability-distribution/blob/master/your-code/ud.png?raw=1)"
      ]
    },
    {
      "cell_type": "code",
      "metadata": {
        "id": "AzsSnojl6SKn",
        "colab_type": "code",
        "colab": {}
      },
      "source": [
        "def genera_uniforme(bottom,ceiling,count):\n",
        "  x=uniform.rvs(size=count)\n",
        "  randoms=bottom+(ceiling-bottom)*x\n",
        "  return randoms"
      ],
      "execution_count": 0,
      "outputs": []
    },
    {
      "cell_type": "code",
      "metadata": {
        "id": "qbvBUvbpdeKS",
        "colab_type": "code",
        "colab": {}
      },
      "source": [
        "x=genera_uniforme(10,15,100)"
      ],
      "execution_count": 0,
      "outputs": []
    },
    {
      "cell_type": "code",
      "metadata": {
        "id": "1mJNyRm9dycd",
        "colab_type": "code",
        "colab": {}
      },
      "source": [
        "x1=genera_uniforme(10,60,1000)"
      ],
      "execution_count": 0,
      "outputs": []
    },
    {
      "cell_type": "code",
      "metadata": {
        "id": "ODfM7CyAd7kb",
        "colab_type": "code",
        "colab": {
          "base_uri": "https://localhost:8080/",
          "height": 585
        },
        "outputId": "8fe1ccff-c956-48f2-ac3f-dfa0c6f291db"
      },
      "source": [
        "fig,ax=plt.subplots(1,2,figsize=(8*1.618,8),sharey='row')\n",
        "ax[0].hist(x,bins=20)\n",
        "ax[1].hist(x1,bins=20)\n",
        "plt.tight_layout();"
      ],
      "execution_count": 15,
      "outputs": [
        {
          "output_type": "display_data",
          "data": {
            "image/png": "[encoded data removed]",
            "text/plain": [
              "<Figure size 931.968x576 with 2 Axes>"
            ]
          },
          "metadata": {
            "tags": [],
            "needs_background": "light"
          }
        }
      ]
    },
    {
      "cell_type": "markdown",
      "metadata": {
        "id": "-8MzJvG36SKs",
        "colab_type": "text"
      },
      "source": [
        "How are the two distributions different?"
      ]
    },
    {
      "cell_type": "code",
      "metadata": {
        "id": "aqxBQSn86SKt",
        "colab_type": "code",
        "colab": {}
      },
      "source": [
        "# La frecuencia es mayor en el segundo al igual que el rango, el segundo termina en 60"
      ],
      "execution_count": 0,
      "outputs": []
    },
    {
      "cell_type": "markdown",
      "metadata": {
        "id": "oUtDUfaK6SKy",
        "colab_type": "text"
      },
      "source": [
        "## Normal Distribution\n",
        "\n",
        "1. In the same way in the Uniform Distribution challenge, write a function that generates normally distributed random numbers.\n",
        "1. Generate 1,000 normally distributed numbers with the average of 10 and standard deviation of 1\n",
        "1. Generate 1,000 normally distributed numbers with the average of 10 and standard deviation of 50\n",
        "2. Plot the distributions of the data generated.\n",
        "\n",
        "Expected output:\n",
        "\n",
        "![normal distribution](https://github.com/eduardoheros/lab-continuous-probability-distribution/blob/master/your-code/nd.png?raw=1)"
      ]
    },
    {
      "cell_type": "code",
      "metadata": {
        "id": "wzgNIWxq6SKz",
        "colab_type": "code",
        "colab": {}
      },
      "source": [
        "s1 = np.random.normal(10, 1, 1000)\n",
        "s2 = np.random.normal(10, 50, 1000)"
      ],
      "execution_count": 0,
      "outputs": []
    },
    {
      "cell_type": "code",
      "metadata": {
        "id": "vYvzIXafymr_",
        "colab_type": "code",
        "colab": {
          "base_uri": "https://localhost:8080/",
          "height": 585
        },
        "outputId": "d49b3301-ce7a-421c-ddb3-bdba69283c42"
      },
      "source": [
        "fig,ax=plt.subplots(1,2,figsize=(8*1.618,8),sharey=\"row\")\n",
        "ax[0].hist(s1,bins=100)\n",
        "ax[1].hist(s2,bins=100)\n",
        "plt.tight_layout();"
      ],
      "execution_count": 20,
      "outputs": [
        {
          "output_type": "display_data",
          "data": {
            "image/png": "[encoded data removed]",
            "text/plain": [
              "<Figure size 931.968x576 with 2 Axes>"
            ]
          },
          "metadata": {
            "tags": [],
            "needs_background": "light"
          }
        }
      ]
    },
    {
      "cell_type": "markdown",
      "metadata": {
        "id": "phJy3-Ar6SK4",
        "colab_type": "text"
      },
      "source": [
        "How are the two distributions different?"
      ]
    },
    {
      "cell_type": "code",
      "metadata": {
        "id": "B6HYWgvh6SK5",
        "colab_type": "code",
        "colab": {}
      },
      "source": [
        "###La segunda tiene una mayor desviación estándar"
      ],
      "execution_count": 0,
      "outputs": []
    },
    {
      "cell_type": "markdown",
      "metadata": {
        "id": "0-n49zeb6SK-",
        "colab_type": "text"
      },
      "source": [
        "## Normal Distribution of Real Data\n",
        "\n",
        "In this challenge we are going to take a look the real data. We will use vehicles.csv file for this exercise"
      ]
    },
    {
      "cell_type": "markdown",
      "metadata": {
        "id": "8mVYvwsS6SK-",
        "colab_type": "text"
      },
      "source": [
        "First import vehicles.csv.\n",
        "Then plot the histograms for the following variables:\n",
        "\n",
        "1. Fuel Barrels/Year"
      ]
    },
    {
      "cell_type": "code",
      "metadata": {
        "id": "uo8feeZG6SK_",
        "colab_type": "code",
        "colab": {}
      },
      "source": [
        "data=pd.read_csv(\"https://raw.githubusercontent.com/eduardoheros/lab-continuous-probability-distribution/master/your-code/vehicles.csv\")"
      ],
      "execution_count": 0,
      "outputs": []
    },
    {
      "cell_type": "code",
      "metadata": {
        "id": "gDDHc_rv0mPV",
        "colab_type": "code",
        "colab": {
          "base_uri": "https://localhost:8080/",
          "height": 306
        },
        "outputId": "dc0521f1-77e5-45aa-c2ce-e20ea06c2965"
      },
      "source": [
        "data.head()"
      ],
      "execution_count": 23,
      "outputs": [
        {
          "output_type": "execute_result",
          "data": {
            "text/html": [
              "<div>\n",
              "<style scoped>\n",
              "    .dataframe tbody tr th:only-of-type {\n",
              "        vertical-align: middle;\n",
              "    }\n",
              "\n",
              "    .dataframe tbody tr th {\n",
              "        vertical-align: top;\n",
              "    }\n",
              "\n",
              "    .dataframe thead th {\n",
              "        text-align: right;\n",
              "    }\n",
              "</style>\n",
              "<table border=\"1\" class=\"dataframe\">\n",
              "  <thead>\n",
              "    <tr style=\"text-align: right;\">\n",
              "      <th></th>\n",
              "      <th>Make</th>\n",
              "      <th>Model</th>\n",
              "      <th>Year</th>\n",
              "      <th>Engine Displacement</th>\n",
              "      <th>Cylinders</th>\n",
              "      <th>Transmission</th>\n",
              "      <th>Drivetrain</th>\n",
              "      <th>Vehicle Class</th>\n",
              "      <th>Fuel Type</th>\n",
              "      <th>Fuel Barrels/Year</th>\n",
              "      <th>City MPG</th>\n",
              "      <th>Highway MPG</th>\n",
              "      <th>Combined MPG</th>\n",
              "      <th>CO2 Emission Grams/Mile</th>\n",
              "      <th>Fuel Cost/Year</th>\n",
              "    </tr>\n",
              "  </thead>\n",
              "  <tbody>\n",
              "    <tr>\n",
              "      <th>0</th>\n",
              "      <td>AM General</td>\n",
              "      <td>DJ Po Vehicle 2WD</td>\n",
              "      <td>1984</td>\n",
              "      <td>2.5</td>\n",
              "      <td>4.0</td>\n",
              "      <td>Automatic 3-spd</td>\n",
              "      <td>2-Wheel Drive</td>\n",
              "      <td>Special Purpose Vehicle 2WD</td>\n",
              "      <td>Regular</td>\n",
              "      <td>19.388824</td>\n",
              "      <td>18</td>\n",
              "      <td>17</td>\n",
              "      <td>17</td>\n",
              "      <td>522.764706</td>\n",
              "      <td>1950</td>\n",
              "    </tr>\n",
              "    <tr>\n",
              "      <th>1</th>\n",
              "      <td>AM General</td>\n",
              "      <td>FJ8c Post Office</td>\n",
              "      <td>1984</td>\n",
              "      <td>4.2</td>\n",
              "      <td>6.0</td>\n",
              "      <td>Automatic 3-spd</td>\n",
              "      <td>2-Wheel Drive</td>\n",
              "      <td>Special Purpose Vehicle 2WD</td>\n",
              "      <td>Regular</td>\n",
              "      <td>25.354615</td>\n",
              "      <td>13</td>\n",
              "      <td>13</td>\n",
              "      <td>13</td>\n",
              "      <td>683.615385</td>\n",
              "      <td>2550</td>\n",
              "    </tr>\n",
              "    <tr>\n",
              "      <th>2</th>\n",
              "      <td>AM General</td>\n",
              "      <td>Post Office DJ5 2WD</td>\n",
              "      <td>1985</td>\n",
              "      <td>2.5</td>\n",
              "      <td>4.0</td>\n",
              "      <td>Automatic 3-spd</td>\n",
              "      <td>Rear-Wheel Drive</td>\n",
              "      <td>Special Purpose Vehicle 2WD</td>\n",
              "      <td>Regular</td>\n",
              "      <td>20.600625</td>\n",
              "      <td>16</td>\n",
              "      <td>17</td>\n",
              "      <td>16</td>\n",
              "      <td>555.437500</td>\n",
              "      <td>2100</td>\n",
              "    </tr>\n",
              "    <tr>\n",
              "      <th>3</th>\n",
              "      <td>AM General</td>\n",
              "      <td>Post Office DJ8 2WD</td>\n",
              "      <td>1985</td>\n",
              "      <td>4.2</td>\n",
              "      <td>6.0</td>\n",
              "      <td>Automatic 3-spd</td>\n",
              "      <td>Rear-Wheel Drive</td>\n",
              "      <td>Special Purpose Vehicle 2WD</td>\n",
              "      <td>Regular</td>\n",
              "      <td>25.354615</td>\n",
              "      <td>13</td>\n",
              "      <td>13</td>\n",
              "      <td>13</td>\n",
              "      <td>683.615385</td>\n",
              "      <td>2550</td>\n",
              "    </tr>\n",
              "    <tr>\n",
              "      <th>4</th>\n",
              "      <td>ASC Incorporated</td>\n",
              "      <td>GNX</td>\n",
              "      <td>1987</td>\n",
              "      <td>3.8</td>\n",
              "      <td>6.0</td>\n",
              "      <td>Automatic 4-spd</td>\n",
              "      <td>Rear-Wheel Drive</td>\n",
              "      <td>Midsize Cars</td>\n",
              "      <td>Premium</td>\n",
              "      <td>20.600625</td>\n",
              "      <td>14</td>\n",
              "      <td>21</td>\n",
              "      <td>16</td>\n",
              "      <td>555.437500</td>\n",
              "      <td>2550</td>\n",
              "    </tr>\n",
              "  </tbody>\n",
              "</table>\n",
              "</div>"
            ],
            "text/plain": [
              "               Make  ... Fuel Cost/Year\n",
              "0        AM General  ...           1950\n",
              "1        AM General  ...           2550\n",
              "2        AM General  ...           2100\n",
              "3        AM General  ...           2550\n",
              "4  ASC Incorporated  ...           2550\n",
              "\n",
              "[5 rows x 15 columns]"
            ]
          },
          "metadata": {
            "tags": []
          },
          "execution_count": 23
        }
      ]
    },
    {
      "cell_type": "code",
      "metadata": {
        "id": "Ps7lEAq66SLG",
        "colab_type": "code",
        "colab": {
          "base_uri": "https://localhost:8080/",
          "height": 265
        },
        "outputId": "c5f903cf-1041-4eac-8f79-3c49003bf643"
      },
      "source": [
        "data[\"Fuel Barrels/Year\"].hist(bins=20);"
      ],
      "execution_count": 26,
      "outputs": [
        {
          "output_type": "display_data",
          "data": {
            "image/png": "[encoded data removed]",
            "text/plain": [
              "<Figure size 432x288 with 1 Axes>"
            ]
          },
          "metadata": {
            "tags": [],
            "needs_background": "light"
          }
        }
      ]
    },
    {
      "cell_type": "markdown",
      "metadata": {
        "id": "Tv_-K8tl6SLF",
        "colab_type": "text"
      },
      "source": [
        "2. CO2 Emission Grams/Mile "
      ]
    },
    {
      "cell_type": "code",
      "metadata": {
        "id": "RgmeovJX05Pd",
        "colab_type": "code",
        "colab": {
          "base_uri": "https://localhost:8080/",
          "height": 265
        },
        "outputId": "ea8c056e-a961-47d4-c7b8-f514986f141e"
      },
      "source": [
        "data[\"CO2 Emission Grams/Mile\"].hist(bins=20);"
      ],
      "execution_count": 27,
      "outputs": [
        {
          "output_type": "display_data",
          "data": {
            "image/png": "[encoded data removed]",
            "text/plain": [
              "<Figure size 432x288 with 1 Axes>"
            ]
          },
          "metadata": {
            "tags": [],
            "needs_background": "light"
          }
        }
      ]
    },
    {
      "cell_type": "markdown",
      "metadata": {
        "id": "skAfHij96SLK",
        "colab_type": "text"
      },
      "source": [
        "3. Combined MPG"
      ]
    },
    {
      "cell_type": "code",
      "metadata": {
        "id": "Dr-BeV__6SLL",
        "colab_type": "code",
        "colab": {
          "base_uri": "https://localhost:8080/",
          "height": 265
        },
        "outputId": "f08d748b-107f-4a6f-ab30-04cab7572430"
      },
      "source": [
        "data[\"Combined MPG\"].hist(bins=20);"
      ],
      "execution_count": 28,
      "outputs": [
        {
          "output_type": "display_data",
          "data": {
            "image/png": "[encoded data removed]",
            "text/plain": [
              "<Figure size 432x288 with 1 Axes>"
            ]
          },
          "metadata": {
            "tags": [],
            "needs_background": "light"
          }
        }
      ]
    },
    {
      "cell_type": "markdown",
      "metadata": {
        "id": "Bgyp0ZjD6SLR",
        "colab_type": "text"
      },
      "source": [
        "Which one(s) of the variables are nearly normally distributed? How do you know?"
      ]
    },
    {
      "cell_type": "code",
      "metadata": {
        "id": "wUmplcJH6SLR",
        "colab_type": "code",
        "colab": {}
      },
      "source": [
        "#Al parecer las 3 tienen un comportamiento normal, con diferente promedio y desviación estándar cada una"
      ],
      "execution_count": 0,
      "outputs": []
    },
    {
      "cell_type": "markdown",
      "metadata": {
        "id": "s1ID1pNS6SLW",
        "colab_type": "text"
      },
      "source": [
        "## Exponential Distribution"
      ]
    },
    {
      "cell_type": "markdown",
      "metadata": {
        "id": "bfwUwJww6SLX",
        "colab_type": "text"
      },
      "source": [
        "1. Using `numpy.random.exponential`, create a function that returns a list of numbers exponentially distributed with the mean of 10. \n",
        "\n",
        "1. Use the function to generate two number sequences with the size of 1 and 100.\n",
        "\n",
        "1. Plot the distributions as histograms with the nubmer of bins as 100.\n",
        "\n",
        "Your output should look like below:\n",
        "\n",
        "![exponential distribution](https://github.com/eduardoheros/lab-continuous-probability-distribution/blob/master/your-code/ed.png?raw=1)"
      ]
    },
    {
      "cell_type": "code",
      "metadata": {
        "id": "goDJCNRL6SLY",
        "colab_type": "code",
        "colab": {}
      },
      "source": [
        "s1=np.random.exponential(size=100)\n",
        "s2=np.random.exponential(size=100,scale=100)"
      ],
      "execution_count": 0,
      "outputs": []
    },
    {
      "cell_type": "code",
      "metadata": {
        "id": "hQX4NCFq6SmH",
        "colab_type": "code",
        "colab": {
          "base_uri": "https://localhost:8080/",
          "height": 585
        },
        "outputId": "1843b5be-8a0d-4efa-a1ee-75cd71b8a66f"
      },
      "source": [
        "fig,ax=plt.subplots(1,2,figsize=(8*1.618,8),sharey=\"row\")\n",
        "ax[0].hist(s1,bins=100)\n",
        "ax[1].hist(s2,bins=100)\n",
        "plt.tight_layout()\n",
        "plt.show();"
      ],
      "execution_count": 54,
      "outputs": [
        {
          "output_type": "display_data",
          "data": {
            "image/png": "[encoded data removed]",
            "text/plain": [
              "<Figure size 931.968x576 with 2 Axes>"
            ]
          },
          "metadata": {
            "tags": [],
            "needs_background": "light"
          }
        }
      ]
    },
    {
      "cell_type": "markdown",
      "metadata": {
        "id": "4UB9J_9Z6SLb",
        "colab_type": "text"
      },
      "source": [
        "How are the two distributions different?"
      ]
    },
    {
      "cell_type": "code",
      "metadata": {
        "id": "Q2fDZx576SLb",
        "colab_type": "code",
        "colab": {}
      },
      "source": [
        "#La segunda tiene un rango más amplio"
      ],
      "execution_count": 0,
      "outputs": []
    },
    {
      "cell_type": "markdown",
      "metadata": {
        "id": "enLQywQ-6SLe",
        "colab_type": "text"
      },
      "source": [
        "## Exponential Distribution of Real Data\n",
        "\n",
        "Suppose that the amount of time one spends in a bank is exponentially distributed with mean as 10 minutes (i.e. λ = 1/10). What is the probability that a customer will spend less than fifteen minutes in the bank? \n",
        "\n",
        "Write a code in python to solve this problem"
      ]
    },
    {
      "cell_type": "code",
      "metadata": {
        "id": "ITrgwadI6SLf",
        "colab_type": "code",
        "colab": {
          "base_uri": "https://localhost:8080/",
          "height": 34
        },
        "outputId": "ae637987-a19f-454f-caec-5bcd34a0924c"
      },
      "source": [
        "from scipy.stats import expon\n",
        "\n",
        "x=expon.cdf(x=15,scale=10)\n",
        "print(\"La probabilidad de que un usuario esté menos de 15 min en el banco es de {:.2%}\".format(x))"
      ],
      "execution_count": 93,
      "outputs": [
        {
          "output_type": "stream",
          "text": [
            "La probabilidad de que un usuario esté menos de 15 min en el banco es de 77.69%\n"
          ],
          "name": "stdout"
        }
      ]
    },
    {
      "cell_type": "markdown",
      "metadata": {
        "id": "tkzvDHaD6SLi",
        "colab_type": "text"
      },
      "source": [
        "What is the probability that the customer will spend more than 15 minutes"
      ]
    },
    {
      "cell_type": "code",
      "metadata": {
        "id": "vN_Ywp9P6SLl",
        "colab_type": "code",
        "colab": {
          "base_uri": "https://localhost:8080/",
          "height": 34
        },
        "outputId": "5dd5199e-fb3b-4be7-fc20-200585aec336"
      },
      "source": [
        "x=expon.sf(15,scale=10)\n",
        "print(\"La probabilidad de que un usuario esté más de 15 min en el banco es de {:.2%}\".format(x))"
      ],
      "execution_count": 92,
      "outputs": [
        {
          "output_type": "stream",
          "text": [
            "La probabilidad de que un usuario esté más de 15 min en el banco es de 22.31%\n"
          ],
          "name": "stdout"
        }
      ]
    },
    {
      "cell_type": "code",
      "metadata": {
        "id": "02xL_2AYCJrE",
        "colab_type": "code",
        "colab": {}
      },
      "source": [
        ""
      ],
      "execution_count": 0,
      "outputs": []
    }
  ]
}