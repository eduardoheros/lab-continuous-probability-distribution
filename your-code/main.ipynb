{
  "nbformat": 4,
  "nbformat_minor": 0,
  "metadata": {
    "kernelspec": {
      "display_name": "Python 3",
      "language": "python",
      "name": "python3"
    },
    "language_info": {
      "codemirror_mode": {
        "name": "ipython",
        "version": 3
      },
      "file_extension": ".py",
      "mimetype": "text/x-python",
      "name": "python",
      "nbconvert_exporter": "python",
      "pygments_lexer": "ipython3",
      "version": "3.7.3"
    },
    "colab": {
      "name": "main.ipynb",
      "provenance": []
    }
  },
  "cells": [
    {
      "cell_type": "markdown",
      "metadata": {
        "id": "YigTfq0h6SKG",
        "colab_type": "text"
      },
      "source": [
        "# Before your start:\n",
        "\n",
        "    Read the README.md file\n",
        "    Comment as much as you can and use the resources (README.md file)\n",
        "    Happy learning!"
      ]
    },
    {
      "cell_type": "markdown",
      "metadata": {
        "id": "Sc4lvVaR6SKJ",
        "colab_type": "text"
      },
      "source": [
        "In this exercise, we  will generate random numbers from the continuous disributions we learned in the lesson. There are two ways to generate random numbers:\n",
        "\n",
        "1. Using the numpy library \n",
        "1. using the Scipy library \n",
        "\n",
        "Use either or both of the lbraries in this exercise."
      ]
    },
    {
      "cell_type": "markdown",
      "metadata": {
        "id": "P5gFrhSK6SKK",
        "colab_type": "text"
      },
      "source": [
        "## Uniform Distribution\n",
        "\n",
        "To generate uniform random numbers between any two given values using scipy, we can either use the following code or the code that we have\n",
        "discussed in class:"
      ]
    },
    {
      "cell_type": "code",
      "metadata": {
        "id": "0kCECLhB6WW4",
        "colab_type": "code",
        "colab": {
          "base_uri": "https://localhost:8080/",
          "height": 51
        },
        "outputId": "9a5e9295-d06a-42dd-ac2c-48dcb8b3d6c5"
      },
      "source": [
        "import numpy as np\n",
        "import matplotlib.pyplot as plt\n",
        "import seaborn as sns\n",
        "from scipy.stats import norm"
      ],
      "execution_count": 1,
      "outputs": [
        {
          "output_type": "stream",
          "text": [
            "/usr/local/lib/python3.6/dist-packages/statsmodels/tools/_testing.py:19: FutureWarning: pandas.util.testing is deprecated. Use the functions in the public API at pandas.testing instead.\n",
            "  import pandas.util.testing as tm\n"
          ],
          "name": "stderr"
        }
      ]
    },
    {
      "cell_type": "code",
      "metadata": {
        "id": "rGvOrztd6SKf",
        "colab_type": "code",
        "colab": {
          "base_uri": "https://localhost:8080/",
          "height": 51
        },
        "outputId": "0d6f6f29-1339-4e19-bb95-3ef7b07c353c"
      },
      "source": [
        "from scipy.stats import uniform\n",
        "x = uniform.rvs(size=10)\n",
        "a = 2\n",
        "b = 3\n",
        "randoms  = a + (b-a)*x\n",
        "print(randoms)"
      ],
      "execution_count": 2,
      "outputs": [
        {
          "output_type": "stream",
          "text": [
            "[2.74979193 2.12857801 2.07559378 2.29091202 2.98767455 2.82630453\n",
            " 2.91626722 2.81900219 2.23909169 2.81092816]\n"
          ],
          "name": "stdout"
        }
      ]
    },
    {
      "cell_type": "markdown",
      "metadata": {
        "id": "pvXhuAEr6SKm",
        "colab_type": "text"
      },
      "source": [
        "**Your task:**\n",
        "\n",
        "1. Based on the code above, write a function that generates uniformly distributed random numbers. There are several requirements for your function:\n",
        "    * It should accept 3 parameters: \n",
        "        * `bottom` - the lower boundary of the generated numbers\n",
        "        * `ceiling` - the upper boundary of the generated numbers\n",
        "        * `count` - how many numbers to generate\n",
        "    * It should return an array of uniformly distributed random numbers\n",
        "\n",
        "1. Call your function with 2 sets of params below:\n",
        "    * bottom=10, ceiling=15, count=100\n",
        "    * bottom=10, ceiling=60, count=1,000\n",
        "\n",
        "1. Plot the uniform distributions generated above using histograms, where x axis is the value and y axis is the count. Let the histogram's number of bins be 10.\n",
        "\n",
        "Your output should look like below:\n",
        "\n",
        "![uniform distribution](https://github.com/eduardoheros/lab-continuous-probability-distribution/blob/master/your-code/ud.png?raw=1)"
      ]
    },
    {
      "cell_type": "code",
      "metadata": {
        "id": "AzsSnojl6SKn",
        "colab_type": "code",
        "colab": {}
      },
      "source": [
        "def genera_uniforme(bottom,ceiling,count):\n",
        "  x=uniform.rvs(size=count)\n",
        "  randoms=bottom+(ceiling-bottom)*x\n",
        "  return randoms"
      ],
      "execution_count": 0,
      "outputs": []
    },
    {
      "cell_type": "code",
      "metadata": {
        "id": "qbvBUvbpdeKS",
        "colab_type": "code",
        "colab": {}
      },
      "source": [
        "x=genera_uniforme(10,15,100)"
      ],
      "execution_count": 0,
      "outputs": []
    },
    {
      "cell_type": "code",
      "metadata": {
        "id": "1mJNyRm9dycd",
        "colab_type": "code",
        "colab": {}
      },
      "source": [
        "x1=genera_uniforme(10,60,1000)"
      ],
      "execution_count": 0,
      "outputs": []
    },
    {
      "cell_type": "code",
      "metadata": {
        "id": "ODfM7CyAd7kb",
        "colab_type": "code",
        "colab": {
          "base_uri": "https://localhost:8080/",
          "height": 585
        },
        "outputId": "8fe1ccff-c956-48f2-ac3f-dfa0c6f291db"
      },
      "source": [
        "fig,ax=plt.subplots(1,2,figsize=(8*1.618,8),sharey='row')\n",
        "ax[0].hist(x,bins=20)\n",
        "ax[1].hist(x1,bins=20)\n",
        "plt.tight_layout();"
      ],
      "execution_count": 15,
      "outputs": [
        {
          "output_type": "display_data",
          "data": {
            "image/png": "[encoded data removed]",
            "text/plain": [
              "<Figure size 931.968x576 with 2 Axes>"
            ]
          },
          "metadata": {
            "tags": [],
            "needs_background": "light"
          }
        }
      ]
    },
    {
      "cell_type": "markdown",
      "metadata": {
        "id": "-8MzJvG36SKs",
        "colab_type": "text"
      },
      "source": [
        "How are the two distributions different?"
      ]
    },
    {
      "cell_type": "code",
      "metadata": {
        "id": "aqxBQSn86SKt",
        "colab_type": "code",
        "colab": {}
      },
      "source": [
        "# La frecuencia es mayor en el segundo al igual que el rango, el segundo termina en 60"
      ],
      "execution_count": 0,
      "outputs": []
    },
    {
      "cell_type": "markdown",
      "metadata": {
        "id": "oUtDUfaK6SKy",
        "colab_type": "text"
      },
      "source": [
        "## Normal Distribution\n",
        "\n",
        "1. In the same way in the Uniform Distribution challenge, write a function that generates normally distributed random numbers.\n",
        "1. Generate 1,000 normally distributed numbers with the average of 10 and standard deviation of 1\n",
        "1. Generate 1,000 normally distributed numbers with the average of 10 and standard deviation of 50\n",
        "2. Plot the distributions of the data generated.\n",
        "\n",
        "Expected output:\n",
        "\n",
        "![normal distribution](https://github.com/eduardoheros/lab-continuous-probability-distribution/blob/master/your-code/nd.png?raw=1)"
      ]
    },
    {
      "cell_type": "code",
      "metadata": {
        "id": "wzgNIWxq6SKz",
        "colab_type": "code",
        "colab": {}
      },
      "source": [
        "s1 = np.random.normal(10, 1, 1000)\n",
        "s2 = np.random.normal(10, 50, 1000)"
      ],
      "execution_count": 0,
      "outputs": []
    },
    {
      "cell_type": "code",
      "metadata": {
        "id": "vYvzIXafymr_",
        "colab_type": "code",
        "colab": {
          "base_uri": "https://localhost:8080/",
          "height": 585
        },
        "outputId": "d49b3301-ce7a-421c-ddb3-bdba69283c42"
      },
      "source": [
        "fig,ax=plt.subplots(1,2,figsize=(8*1.618,8),sharey=\"row\")\n",
        "ax[0].hist(s1,bins=100)\n",
        "ax[1].hist(s2,bins=100)\n",
        "plt.tight_layout();"
      ],
      "execution_count": 20,
      "outputs": [
        {
          "output_type": "display_data",
          "data": {
            "image/png": "[encoded data removed]",
            "text/plain": [
              "<Figure size 931.968x576 with 2 Axes>"
            ]
          },
          "metadata": {
            "tags": [],
            "needs_background": "light"
          }
        }
      ]
    },
    {
      "cell_type": "markdown",
      "metadata": {
        "id": "phJy3-Ar6SK4",
        "colab_type": "text"
      },
      "source": [
        "How are the two distributions different?"
      ]
    },
    {
      "cell_type": "code",
      "metadata": {
        "id": "B6HYWgvh6SK5",
        "colab_type": "code",
        "colab": {}
      },
      "source": [
        "###La segunda tiene una mayor desviación estándar"
      ],
      "execution_count": 0,
      "outputs": []
    },
    {
      "cell_type": "markdown",
      "metadata": {
        "id": "0-n49zeb6SK-",
        "colab_type": "text"
      },
      "source": [
        "## Normal Distribution of Real Data\n",
        "\n",
        "In this challenge we are going to take a look the real data. We will use vehicles.csv file for this exercise"
      ]
    },
    {
      "cell_type": "markdown",
      "metadata": {
        "id": "8mVYvwsS6SK-",
        "colab_type": "text"
      },
      "source": [
        "First import vehicles.csv.\n",
        "Then plot the histograms for the following variables:\n",
        "\n",
        "1. Fuel Barrels/Year"
      ]
    },
    {
      "cell_type": "code",
      "metadata": {
        "id": "uo8feeZG6SK_",
        "colab_type": "code",
        "colab": {}
      },
      "source": [
        "# your code here"
      ],
      "execution_count": 0,
      "outputs": []
    },
    {
      "cell_type": "markdown",
      "metadata": {
        "id": "Tv_-K8tl6SLF",
        "colab_type": "text"
      },
      "source": [
        "2. CO2 Emission Grams/Mile "
      ]
    },
    {
      "cell_type": "code",
      "metadata": {
        "id": "Ps7lEAq66SLG",
        "colab_type": "code",
        "colab": {}
      },
      "source": [
        "# your code here"
      ],
      "execution_count": 0,
      "outputs": []
    },
    {
      "cell_type": "markdown",
      "metadata": {
        "id": "skAfHij96SLK",
        "colab_type": "text"
      },
      "source": [
        "3. Combined MPG"
      ]
    },
    {
      "cell_type": "code",
      "metadata": {
        "id": "Dr-BeV__6SLL",
        "colab_type": "code",
        "colab": {}
      },
      "source": [
        "# your code here"
      ],
      "execution_count": 0,
      "outputs": []
    },
    {
      "cell_type": "markdown",
      "metadata": {
        "id": "Bgyp0ZjD6SLR",
        "colab_type": "text"
      },
      "source": [
        "Which one(s) of the variables are nearly normally distributed? How do you know?"
      ]
    },
    {
      "cell_type": "code",
      "metadata": {
        "id": "wUmplcJH6SLR",
        "colab_type": "code",
        "colab": {}
      },
      "source": [
        "# your answer here"
      ],
      "execution_count": 0,
      "outputs": []
    },
    {
      "cell_type": "markdown",
      "metadata": {
        "id": "s1ID1pNS6SLW",
        "colab_type": "text"
      },
      "source": [
        "## Exponential Distribution"
      ]
    },
    {
      "cell_type": "markdown",
      "metadata": {
        "id": "bfwUwJww6SLX",
        "colab_type": "text"
      },
      "source": [
        "1. Using `numpy.random.exponential`, create a function that returns a list of numbers exponentially distributed with the mean of 10. \n",
        "\n",
        "1. Use the function to generate two number sequences with the size of 1 and 100.\n",
        "\n",
        "1. Plot the distributions as histograms with the nubmer of bins as 100.\n",
        "\n",
        "Your output should look like below:\n",
        "\n",
        "![exponential distribution](https://github.com/eduardoheros/lab-continuous-probability-distribution/blob/master/your-code/ed.png?raw=1)"
      ]
    },
    {
      "cell_type": "code",
      "metadata": {
        "id": "goDJCNRL6SLY",
        "colab_type": "code",
        "colab": {}
      },
      "source": [
        "# your code here"
      ],
      "execution_count": 0,
      "outputs": []
    },
    {
      "cell_type": "markdown",
      "metadata": {
        "id": "4UB9J_9Z6SLb",
        "colab_type": "text"
      },
      "source": [
        "How are the two distributions different?"
      ]
    },
    {
      "cell_type": "code",
      "metadata": {
        "id": "Q2fDZx576SLb",
        "colab_type": "code",
        "colab": {}
      },
      "source": [
        "# your answer here"
      ],
      "execution_count": 0,
      "outputs": []
    },
    {
      "cell_type": "markdown",
      "metadata": {
        "id": "enLQywQ-6SLe",
        "colab_type": "text"
      },
      "source": [
        "## Exponential Distribution of Real Data\n",
        "\n",
        "Suppose that the amount of time one spends in a bank is exponentially distributed with mean as 10 minutes (i.e. λ = 1/10). What is the probability that a customer will spend less than fifteen minutes in the bank? \n",
        "\n",
        "Write a code in python to solve this problem"
      ]
    },
    {
      "cell_type": "code",
      "metadata": {
        "id": "ITrgwadI6SLf",
        "colab_type": "code",
        "colab": {}
      },
      "source": [
        "# your answer here\n",
        "# Hint: This is same as saying P(x<15)"
      ],
      "execution_count": 0,
      "outputs": []
    },
    {
      "cell_type": "markdown",
      "metadata": {
        "id": "tkzvDHaD6SLi",
        "colab_type": "text"
      },
      "source": [
        "What is the probability that the customer will spend more than 15 minutes"
      ]
    },
    {
      "cell_type": "code",
      "metadata": {
        "id": "5U3ipPYe6SLj",
        "colab_type": "code",
        "colab": {}
      },
      "source": [
        "# your answer here"
      ],
      "execution_count": 0,
      "outputs": []
    },
    {
      "cell_type": "code",
      "metadata": {
        "id": "vN_Ywp9P6SLl",
        "colab_type": "code",
        "colab": {}
      },
      "source": [
        ""
      ],
      "execution_count": 0,
      "outputs": []
    }
  ]
}